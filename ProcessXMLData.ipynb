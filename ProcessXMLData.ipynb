{
 "cells": [
  {
   "cell_type": "code",
   "execution_count": 11,
   "metadata": {
    "collapsed": true
   },
   "outputs": [],
   "source": [
    "from bs4 import BeautifulSoup\n",
    "from bs4 import BeautifulStoneSoup\n",
    "import nltk.data\n",
    "import re\n",
    "import glob\n",
    "import pickle\n",
    "import pprint\n",
    "sent_detector = nltk.data.load('tokenizers/punkt/english.pickle')\n"
   ]
  },
  {
   "cell_type": "code",
   "execution_count": 5,
   "metadata": {
    "collapsed": true
   },
   "outputs": [],
   "source": [
    "xmlFile = \"../cleanXMLdataV2/N10-1034.out\"\n",
    "with open(xmlFile, 'r') as f:\n",
    "    xmlData = f.read();\n",
    "#`soup = BeautifulStoneSoup(xmlData, selfClosingTags=['sectionHeader','bodyText'])\n",
    "soup = BeautifulSoup(xmlData, 'xml')\n",
    "#print soup.prettify()\n",
    "\n",
    "bodiesAWK = []\n",
    "# gets all of the lines after conclusion and before acknowledgement\n",
    "limit = 5 #assuming that there are not many seperations between conclusion and acknowledgement\n",
    "bodiesCON = []\n",
    "        "
   ]
  },
  {
   "cell_type": "code",
   "execution_count": 28,
   "metadata": {
    "collapsed": true
   },
   "outputs": [],
   "source": [
    "def get_abstract(all_text):\n",
    "    ret = \"\"\n",
    "    for sent in sent_detector.tokenize(all_text.strip()):\n",
    "        clean_sent = sent.lower().replace('\\n', ' ').strip()\n",
    "        clean_sent = clean_sent.replace(\"- \", \"\")\n",
    "        ret = ret + \"\\n\" + clean_sent\n",
    "\n",
    "    return ret"
   ]
  },
  {
   "cell_type": "code",
   "execution_count": 29,
   "metadata": {
    "collapsed": true
   },
   "outputs": [],
   "source": [
    "def get_bodyText(starterPointer):\n",
    "    saveText = header.find_next('bodyText').get_text()\n",
    "    if startPointer is not None:\n",
    "        print i\n",
    "        currentPoint = header.find_next('bodyText').find_next()\n",
    "        while currentPoint is not None :\n",
    "            print currentPoint.name\n",
    "            if currentPoint.name == 'sectionHeader':\n",
    "                break\n",
    "            elif currentPoint.name == 'page':\n",
    "                print currentPoint.name\n",
    "            elif currentPoint.name == 'bodyText':\n",
    "                saveText = currentPoint.get_text()\n",
    "\n",
    "            currentPoint = currentPoint.find_next()\n",
    "    return saveText"
   ]
  },
  {
   "cell_type": "code",
   "execution_count": 26,
   "metadata": {
    "collapsed": false,
    "scrolled": true
   },
   "outputs": [
    {
     "name": "stdout",
     "output_type": "stream",
     "text": [
      "0\n",
      "sectionHeader\n",
      "1\n",
      "page\n",
      "page\n",
      "bodyText\n",
      "sectionHeader\n",
      "2\n",
      "page\n",
      "page\n",
      "bodyText\n",
      "sectionHeader\n",
      "3\n",
      "subsectionHeader\n",
      "bodyText\n",
      "footnote\n",
      "page\n",
      "page\n",
      "figureCaption\n",
      "bodyText\n",
      "table\n",
      "tableCaption\n",
      "bodyText\n",
      "subsectionHeader\n",
      "bodyText\n",
      "footnote\n",
      "page\n",
      "page\n",
      "bodyText\n",
      "subsectionHeader\n",
      "bodyText\n",
      "sectionHeader\n",
      "4\n",
      "page\n",
      "page\n",
      "table\n",
      "tableCaption\n",
      "subsectionHeader\n",
      "bodyText\n",
      "page\n",
      "page\n",
      "figure\n",
      "figureCaption\n",
      "figure\n",
      "figureCaption\n",
      "bodyText\n",
      "footnote\n",
      "subsectionHeader\n",
      "bodyText\n",
      "page\n",
      "page\n",
      "table\n",
      "tableCaption\n",
      "sectionHeader\n",
      "5\n",
      "sectionHeader\n",
      "6\n",
      "sectionHeader\n"
     ]
    }
   ],
   "source": [
    "        for i, header in  enumerate(soup.findAll('sectionHeader')):\n",
    "            startPointer = header.find_next('bodyText')\n",
    "                    \n",
    "                        \n",
    "            if header['genericHeader'] == 'abstract':    \n",
    "                if header.find_next('bodyText') is not None:\n",
    "                    paperAbs = get_abstract(header.find_next('bodyText').get_text())\n",
    "                else:\n",
    "                    paperAbs = \" \"\n",
    "               \n",
    "            if header['genericHeader'] == 'introduction':\n",
    "                #print \"1:\" + header.find_next('bodyText').get_text()\n",
    "                if header.find_next('bodyText') is not None:\n",
    "                    #print \"2:\" + header.find_next('bodyText').get_text()\n",
    "                    paperIntro = get_abstract(header.find_next('bodyText').get_text())\n",
    "                else:\n",
    "                    paperIntro = \" \"\n"
   ]
  },
  {
   "cell_type": "code",
   "execution_count": null,
   "metadata": {
    "collapsed": true
   },
   "outputs": [],
   "source": []
  }
 ],
 "metadata": {
  "kernelspec": {
   "display_name": "Python 2",
   "language": "python",
   "name": "python2"
  },
  "language_info": {
   "codemirror_mode": {
    "name": "ipython",
    "version": 2
   },
   "file_extension": ".py",
   "mimetype": "text/x-python",
   "name": "python",
   "nbconvert_exporter": "python",
   "pygments_lexer": "ipython2",
   "version": "2.7.9"
  }
 },
 "nbformat": 4,
 "nbformat_minor": 0
}
