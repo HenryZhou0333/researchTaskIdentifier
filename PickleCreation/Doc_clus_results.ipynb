{
 "cells": [
  {
   "cell_type": "code",
   "execution_count": 20,
   "metadata": {
    "collapsed": true
   },
   "outputs": [],
   "source": [
    "import pickle\n"
   ]
  },
  {
   "cell_type": "code",
   "execution_count": 30,
   "metadata": {
    "collapsed": false
   },
   "outputs": [
    {
     "name": "stdout",
     "output_type": "stream",
     "text": [
      "2:21:0.5\n",
      "3:21:0.5\n",
      "4:21:0.5\n",
      "5:21:0.5\n",
      "6:21:0.5\n",
      "7:21:0.5\n",
      "8:21:0.5\n",
      "9:21:0.5\n",
      "10:21:0.5\n",
      "11:21:0.5\n",
      "12:21:0.5\n",
      "13:21:0.5\n",
      "14:21:0.5\n",
      "15:21:0.5\n",
      "16:21:0.5\n",
      "17:21:0.5\n",
      "18:21:0.5\n",
      "19:21:0.5\n",
      "20:21:0.5\n",
      "21:21:0.5\n",
      "------Best Result---------\n",
      "Clusters in Basic:9 Size: 29\n",
      "Clusters in Expanded:11 Size: 36\n",
      "CommonCount:8\n",
      "goodNess:0.24615384615384617\n",
      "--------------------------\n"
     ]
    }
   ],
   "source": [
    "chauThresh = [0.2,0.3,0.4,0.5]\n",
    "goodNess = 0\n",
    "for i in range(2,22):\n",
    "    for j in range(2,22):\n",
    "        if i==j:\n",
    "            continue\n",
    "        else: \n",
    "            for threshhold in chauThresh:\n",
    "                basicDictpickle = open('../output/DocClus_BasicFWK_'+str(i)+'T_'+ str(threshhold)+ '.pk', 'rb')\n",
    "                basicDict_Index = pickle.load(basicDictpickle)\n",
    "                expandedDictpickle = open('../output/DocClus_ExpandedFWK_'+str(j)+'T_'+ str(threshhold)+ '.pk', 'rb')\n",
    "                expandedDict_Index = pickle.load(expandedDictpickle)\n",
    "                commonCount = 0\n",
    "                for key in expandedDict_Index:\n",
    "                    if key in basicDict_Index:\n",
    "                        commonCount += 1\n",
    "                tempGoodness = commonCount/((len(basicDict_Index) + len(expandedDict_Index))/2)\n",
    "                if tempGoodness > goodNess:\n",
    "                    goodNess = tempGoodness\n",
    "                    common = commonCount\n",
    "                    BasicK = i\n",
    "                    ExpandedK = j\n",
    "                    BSize = len(basicDict_Index)\n",
    "                    Esize = len(expandedDict_Index)\n",
    "#     print (str(i) + \":\" + str(j) + \":\" + str(threshhold))            \n",
    "print(\"------Best Result---------\")           \n",
    "print(\"Clusters in Basic:\" + str(BasicK) + \" Size: \" + str(BSize))\n",
    "print(\"Clusters in Expanded:\" + str(ExpandedK)+ \" Size: \" + str(Esize))\n",
    "print(\"CommonCount:\" +  str(common))\n",
    "print(\"goodNess:\" +  str(goodNess))\n",
    "print(\"% improvemnt of Expanded over Basic:\" +  str(goodNess))\n",
    "print(\"--------------------------\")"
   ]
  },
  {
   "cell_type": "code",
   "execution_count": 6,
   "metadata": {
    "collapsed": false
   },
   "outputs": [
    {
     "name": "stdout",
     "output_type": "stream",
     "text": [
      "W10-3809\n",
      "W13-4017\n",
      "L08-1002\n",
      "W13-2814\n",
      "L08-1402\n",
      "L08-1082\n",
      "H93-1033\n",
      "I08-1039\n",
      "P13-2016\n",
      "W03-1723\n",
      "P06-1017\n",
      "N10-1030\n",
      "P04-1044\n",
      "C04-1030\n",
      "D13-1025\n",
      "C10-1035\n",
      "P06-1048\n",
      "P11-3001\n",
      "N07-2026\n",
      "P09-1061\n",
      "S13-2074\n",
      "D08-1008\n",
      "W08-2133\n",
      "W10-1703\n",
      "N06-2036\n"
     ]
    }
   ],
   "source": [
    "for key in basicDict_Index:\n",
    "    print (key)"
   ]
  },
  {
   "cell_type": "code",
   "execution_count": 8,
   "metadata": {
    "collapsed": false
   },
   "outputs": [
    {
     "name": "stdout",
     "output_type": "stream",
     "text": [
      "N09-1051\n",
      "W05-0831\n",
      "P05-2012\n",
      "P04-1044\n",
      "J12-1003\n",
      "P13-1132\n",
      "P13-1171\n",
      "H05-1097\n",
      "P07-1079\n",
      "J94-4003\n",
      "J98-3005\n",
      "J11-4007\n",
      "P07-1025\n",
      "J08-2004\n",
      "W06-1306\n",
      "W05-0906\n",
      "W10-4317\n",
      "N07-2053\n",
      "J12-2005\n",
      "D07-1054\n",
      "D09-1003\n",
      "S12-1097\n",
      "X98-1017\n",
      "W00-1015\n",
      "S13-2019\n",
      "P11-2052\n"
     ]
    }
   ],
   "source": [
    "\n",
    "for key in expandedDict_Index:\n",
    "    print (key)"
   ]
  },
  {
   "cell_type": "code",
   "execution_count": 12,
   "metadata": {
    "collapsed": false
   },
   "outputs": [
    {
     "name": "stdout",
     "output_type": "stream",
     "text": [
      "0\n"
     ]
    }
   ],
   "source": [
    "commonCount = 0\n",
    "for key in expandedDict_Index:\n",
    "    if key in basicDict_Index:\n",
    "        commoCount = commonCount + 1\n",
    "print (commonCount)"
   ]
  }
 ],
 "metadata": {
  "kernelspec": {
   "display_name": "Python 3",
   "language": "python",
   "name": "python3"
  },
  "language_info": {
   "codemirror_mode": {
    "name": "ipython",
    "version": 3
   },
   "file_extension": ".py",
   "mimetype": "text/x-python",
   "name": "python",
   "nbconvert_exporter": "python",
   "pygments_lexer": "ipython3",
   "version": "3.4.3"
  }
 },
 "nbformat": 4,
 "nbformat_minor": 0
}
