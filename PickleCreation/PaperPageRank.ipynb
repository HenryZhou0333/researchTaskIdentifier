{
 "cells": [
  {
   "cell_type": "code",
   "execution_count": 37,
   "metadata": {
    "collapsed": true
   },
   "outputs": [],
   "source": [
    "import glob\n",
    "import pickle\n",
    "import pprint"
   ]
  },
  {
   "cell_type": "code",
   "execution_count": 43,
   "metadata": {
    "collapsed": true
   },
   "outputs": [],
   "source": [
    "PaperPageRankIndex = {}\n",
    "Collabfiles = glob.glob(\"/home/akhulla2/Downloads/researchTaskIdentifier/acl_pagerank/*.txt\")"
   ]
  },
  {
   "cell_type": "code",
   "execution_count": 44,
   "metadata": {
    "collapsed": false,
    "scrolled": true
   },
   "outputs": [],
   "source": [
    "for f in Collabfiles:\n",
    "    with open(f,'r' ,encoding='utf-8', errors='ignore') as singleFile:\n",
    "        content = singleFile.readlines()\n",
    "        for l in content:\n",
    "            lparts = l.split()\n",
    "#             print (\"the line is \" + l + f)\n",
    "#             print (lparts[0] in PaperPageRankIndex)\n",
    "#             print (lparts[0])\n",
    "#             print (lparts[1])\n",
    "            if len(lparts) == 2:\n",
    "                if l[0] in PaperPageRankIndex:\n",
    "                    if PaperPageRankIndex[lparts[0]] - float(lparts[1]) < 0.000009:\n",
    "                        PaperPageRankIndex[lparts[0]] = float(lparts[1])\n",
    "                else:\n",
    "                    PaperPageRankIndex[lparts[0]] = float(lparts[1])\n"
   ]
  },
  {
   "cell_type": "code",
   "execution_count": 45,
   "metadata": {
    "collapsed": false
   },
   "outputs": [
    {
     "name": "stdout",
     "output_type": "stream",
     "text": [
      "16314\n"
     ]
    }
   ],
   "source": [
    "print (len(PaperPageRankIndex))"
   ]
  },
  {
   "cell_type": "code",
   "execution_count": 46,
   "metadata": {
    "collapsed": false
   },
   "outputs": [],
   "source": [
    "output = open('../PagerankPickle.pk', 'wb')\n",
    "pickle.dump(PaperPageRankIndex, output)\n",
    "output.close()"
   ]
  },
  {
   "cell_type": "code",
   "execution_count": null,
   "metadata": {
    "collapsed": true
   },
   "outputs": [],
   "source": []
  }
 ],
 "metadata": {
  "kernelspec": {
   "display_name": "Python 3",
   "language": "python",
   "name": "python3"
  },
  "language_info": {
   "codemirror_mode": {
    "name": "ipython",
    "version": 3
   },
   "file_extension": ".py",
   "mimetype": "text/x-python",
   "name": "python",
   "nbconvert_exporter": "python",
   "pygments_lexer": "ipython3",
   "version": "3.4.3"
  }
 },
 "nbformat": 4,
 "nbformat_minor": 0
}
